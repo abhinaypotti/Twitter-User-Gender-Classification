{
 "cells": [
  {
   "cell_type": "code",
   "execution_count": 231,
   "metadata": {
    "ExecuteTime": {
     "end_time": "2017-02-07T12:29:30.260604",
     "start_time": "2017-02-07T12:29:30.237606"
    },
    "collapsed": true
   },
   "outputs": [],
   "source": [
    "%matplotlib inline\n",
    "\n",
    "import numpy as np\n",
    "import pandas as pd\n",
    "import matplotlib.pyplot as plt\n",
    "import random\n",
    "import re\n",
    "\n",
    "from sklearn.feature_extraction.text import CountVectorizer\n",
    "from sklearn.naive_bayes import MultinomialNB\n",
    "from sklearn.preprocessing import LabelEncoder\n",
    "from sklearn.metrics import classification_report\n",
    "from sklearn.metrics import accuracy_score\n",
    "from sklearn.linear_model import LogisticRegression\n",
    "from sklearn.svm import SVC\n",
    "from sklearn.preprocessing import StandardScaler"
   ]
  },
  {
   "cell_type": "code",
   "execution_count": 3,
   "metadata": {
    "ExecuteTime": {
     "end_time": "2017-02-07T10:58:04.156646",
     "start_time": "2017-02-07T10:58:03.882735"
    },
    "collapsed": true
   },
   "outputs": [],
   "source": [
    "df = pd.read_csv(\"../data/gender-classifier-DFE-791531.csv\", encoding='latin1')"
   ]
  },
  {
   "cell_type": "code",
   "execution_count": 4,
   "metadata": {
    "ExecuteTime": {
     "end_time": "2017-02-07T10:58:04.164988",
     "start_time": "2017-02-07T10:58:04.158857"
    },
    "collapsed": false
   },
   "outputs": [
    {
     "data": {
      "text/plain": [
       "Index(['_unit_id', '_golden', '_unit_state', '_trusted_judgments',\n",
       "       '_last_judgment_at', 'gender', 'gender:confidence', 'profile_yn',\n",
       "       'profile_yn:confidence', 'created', 'description', 'fav_number',\n",
       "       'gender_gold', 'link_color', 'name', 'profile_yn_gold', 'profileimage',\n",
       "       'retweet_count', 'sidebar_color', 'text', 'tweet_coord', 'tweet_count',\n",
       "       'tweet_created', 'tweet_id', 'tweet_location', 'user_timezone'],\n",
       "      dtype='object')"
      ]
     },
     "execution_count": 4,
     "metadata": {},
     "output_type": "execute_result"
    }
   ],
   "source": [
    "df.columns"
   ]
  },
  {
   "cell_type": "code",
   "execution_count": 5,
   "metadata": {
    "ExecuteTime": {
     "end_time": "2017-02-07T10:58:05.157227",
     "start_time": "2017-02-07T10:58:04.167341"
    },
    "collapsed": false
   },
   "outputs": [
    {
     "data": {
      "image/png": "[encoded data removed]",
      "text/plain": [
       "<matplotlib.figure.Figure at 0x7f04f25a8860>"
      ]
     },
     "metadata": {},
     "output_type": "display_data"
    }
   ],
   "source": [
    "df[\"gender:confidence\"].plot.hist(bins=150);\n",
    "plt.title(\"Confidence\");"
   ]
  },
  {
   "cell_type": "code",
   "execution_count": 6,
   "metadata": {
    "ExecuteTime": {
     "end_time": "2017-02-07T10:58:05.267205",
     "start_time": "2017-02-07T10:58:05.160261"
    },
    "collapsed": false
   },
   "outputs": [
    {
     "data": {
      "text/plain": [
       "0.69456359102244392"
      ]
     },
     "execution_count": 6,
     "metadata": {},
     "output_type": "execute_result"
    }
   ],
   "source": [
    "sum(df[\"gender:confidence\"] > 0.99)/df.shape[0]"
   ]
  },
  {
   "cell_type": "code",
   "execution_count": 7,
   "metadata": {
    "ExecuteTime": {
     "end_time": "2017-02-07T10:58:05.316763",
     "start_time": "2017-02-07T10:58:05.274463"
    },
    "collapsed": false
   },
   "outputs": [
    {
     "data": {
      "text/plain": [
       "female     5367\n",
       "male       4653\n",
       "brand      3784\n",
       "unknown     122\n",
       "Name: gender, dtype: int64"
      ]
     },
     "execution_count": 7,
     "metadata": {},
     "output_type": "execute_result"
    }
   ],
   "source": [
    "df[df[\"gender:confidence\"] > 0.99][\"gender\"].value_counts()"
   ]
  },
  {
   "cell_type": "code",
   "execution_count": 8,
   "metadata": {
    "ExecuteTime": {
     "end_time": "2017-02-07T10:58:05.352787",
     "start_time": "2017-02-07T10:58:05.327341"
    },
    "collapsed": false
   },
   "outputs": [],
   "source": [
    "chosen_rows = df[df[\"gender\"].isin([\"male\", \"female\"]) & (df[\"gender:confidence\"] > 0.99)].index.tolist()"
   ]
  },
  {
   "cell_type": "code",
   "execution_count": 9,
   "metadata": {
    "ExecuteTime": {
     "end_time": "2017-02-07T10:58:05.393883",
     "start_time": "2017-02-07T10:58:05.359737"
    },
    "collapsed": false
   },
   "outputs": [
    {
     "data": {
      "text/plain": [
       "10020"
      ]
     },
     "execution_count": 9,
     "metadata": {},
     "output_type": "execute_result"
    }
   ],
   "source": [
    "n_samples = len(chosen_rows)\n",
    "random.shuffle(chosen_rows)\n",
    "test_size = round(n_samples*0.2)\n",
    "test_rows = chosen_rows[:test_size]\n",
    "val_rows = chosen_rows[test_size:2*test_size]\n",
    "train_rows = chosen_rows[2*test_size:]\n",
    "len(chosen_rows)"
   ]
  },
  {
   "cell_type": "code",
   "execution_count": 209,
   "metadata": {
    "ExecuteTime": {
     "end_time": "2017-02-07T12:07:19.386287",
     "start_time": "2017-02-07T12:07:19.372168"
    },
    "collapsed": false
   },
   "outputs": [],
   "source": [
    "def normalize_text(text):\n",
    "    # Remove non-ASCII chars.\n",
    "    text = re.sub('[^\\x00-\\x7F]+',' ', text)\n",
    "    \n",
    "    # Remove URLs\n",
    "    text = re.sub('https?:\\/\\/.*[\\r\\n]*', ' ', text)\n",
    "    \n",
    "    # Remove special chars.\n",
    "    text = re.sub('[?!+%{}:;.,\"\\'()\\[\\]_]', '',text)\n",
    "    \n",
    "    # Remove double spaces.\n",
    "    text = re.sub('\\s+',' ',text)\n",
    "    \n",
    "    return text"
   ]
  },
  {
   "cell_type": "code",
   "execution_count": 210,
   "metadata": {
    "ExecuteTime": {
     "end_time": "2017-02-07T12:07:22.571381",
     "start_time": "2017-02-07T12:07:22.171763"
    },
    "collapsed": false
   },
   "outputs": [],
   "source": [
    "df[\"text_norm\"] = [normalize_text(text) for text in df[\"text\"]]"
   ]
  },
  {
   "cell_type": "code",
   "execution_count": 211,
   "metadata": {
    "ExecuteTime": {
     "end_time": "2017-02-07T12:07:23.520344",
     "start_time": "2017-02-07T12:07:23.302425"
    },
    "collapsed": false
   },
   "outputs": [],
   "source": [
    "vectorizer = CountVectorizer()\n",
    "vectorizer = vectorizer.fit(df.ix[train_rows, :][\"text_norm\"])"
   ]
  },
  {
   "cell_type": "code",
   "execution_count": 234,
   "metadata": {
    "ExecuteTime": {
     "end_time": "2017-02-07T12:33:48.762043",
     "start_time": "2017-02-07T12:33:48.509093"
    },
    "collapsed": true
   },
   "outputs": [],
   "source": [
    "encoder = LabelEncoder()\n",
    "X_train = vectorizer.transform(df.ix[train_rows, \"text_norm\"])\n",
    "X_val = vectorizer.transform(df.ix[val_rows, \"text_norm\"])\n",
    "y_train = encoder.fit_transform(df.ix[train_rows, \"gender\"])\n",
    "y_val = encoder.transform(df.ix[val_rows, \"gender\"])"
   ]
  },
  {
   "cell_type": "code",
   "execution_count": 213,
   "metadata": {
    "ExecuteTime": {
     "end_time": "2017-02-07T12:07:26.425635",
     "start_time": "2017-02-07T12:07:26.401660"
    },
    "collapsed": false
   },
   "outputs": [
    {
     "name": "stdout",
     "output_type": "stream",
     "text": [
      "             precision    recall  f1-score   support\n",
      "\n",
      "     female       0.62      0.81      0.70      1076\n",
      "       male       0.66      0.42      0.52       928\n",
      "\n",
      "avg / total       0.64      0.63      0.62      2004\n",
      "\n"
     ]
    },
    {
     "data": {
      "text/plain": [
       "0.63223552894211577"
      ]
     },
     "execution_count": 213,
     "metadata": {},
     "output_type": "execute_result"
    }
   ],
   "source": [
    "nb = MultinomialNB()\n",
    "nb = nb.fit(X_train, y_train)\n",
    "print(classification_report(y_val, nb.predict(X_val), target_names=encoder.classes_))\n",
    "accuracy_score(y_val, nb.predict(X_val))"
   ]
  },
  {
   "cell_type": "code",
   "execution_count": 195,
   "metadata": {
    "ExecuteTime": {
     "end_time": "2017-02-07T12:03:57.819941",
     "start_time": "2017-02-07T12:03:57.807325"
    },
    "collapsed": false
   },
   "outputs": [
    {
     "data": {
      "text/plain": [
       "['Robbie E Responds To Critics After Win Against Eddie Edwards In The #WorldTitleSeries https://t.co/NSybBmVjKZ',\n",
       " '\\x89ÛÏIt felt like they were my friends and I was living the story with them\\x89Û\\x9d https://t.co/arngE0YHNO #retired #IAN1 https://t.co/CIzCANPQFz',\n",
       " 'i absolutely adore when louis starts the songs it hits me hard but it feels good',\n",
       " \"Hi @JordanSpieth - Looking at the url - do you use @IFTTT?!  Don't typically see an advanced user on the @PGATOUR! https://t.co/H68ou5PE9L\",\n",
       " 'Watching Neighbours on Sky+ catching up with the Neighbs!! Xxx _Ù÷Ä_Ù÷Ä_Ù÷Ä_ÙÔÎ_Ù\\x8fÈ_ÙÔ\\x8d_Ù\\x8fÈ Xxx',\n",
       " 'Ive seen people on the train with lamps, chairs, tvs etc  https://t.co/w6zf4pVM4I',\n",
       " '@BpackEngineer Thank you for your patience while we take care of the issue!',\n",
       " \"Gala Bingo clubs bought for å£241m: The UK's largest High Street bingo operator, Gala, is being taken over by\\x89Û_ https://t.co/HzeeykJUd3\",\n",
       " '@_Aphmau_ the pic defines all mcd fangirls/fanboys and mcd shippers xD',\n",
       " '@Evielady just how lovely is the tree this year! Never seen it as gorgeous as this #Autumn #colour',\n",
       " 'how are you taking care of yourself? https://t.co/OrL9u1P8YI #fitfluential',\n",
       " 'MTG Deals 1x Rank-Up-Magic - The Seventh One - PRIO-EN058 - Secret Rare - Unlimi https://t.co/Y22wyLpgnN https://t.co/VwagxMNohB',\n",
       " 'Just put my ass on the line for you and this is how you repay me.',\n",
       " \"https://t.co/z4sbWUugd8 What the Nation Will Be Talking About After Wednesday's GOP Debates https://t.co/gIHIVyHF7G #business #now\",\n",
       " 'will i even need sound effects for the diviners tonight',\n",
       " \"https://t.co/EROGWTFTYo It's a glow of satisfaction re The Glow https://t.co/7RdyMCVPKx\",\n",
       " \"@giannaaa28 lmao _Ù÷â_Ù÷â dude I'm hella scared for next episode bc the ending to yesterday's\",\n",
       " \"@coolyazzy94 Ditto - I'm still learning the favourites and retweet stuff - least it sucks less than Facebook haha :P\",\n",
       " \"@CaribBros @JstSaleem I do but I don't understand how to get to the server to get it\",\n",
       " 'Me too, saw five lionesses drinking around the little pan one half block away, made a kill behind land R.   #SafariLive',\n",
       " '@CraftYear2015 @isabelpascual thank you for the retweets',\n",
       " 'All the girls went to sleep and the guys just sat in the floor and watched us_Ù÷â_Ù÷â',\n",
       " \"@ChrisAOfficial I'm on the right side_Ù÷â\\x89ÏÎ_Ù\\x8f_\\x95ü\\x8fxxx\",\n",
       " 'YALL LMFAOO RIGHT WHEN THE CHORUS CAME ON, A TEAR ROLLED DOWN HIS FACE https://t.co/aYuQDPtvsE',\n",
       " \"James Bond premier night at the @Everymancinema in Oxted with @SidiEdey. Let's hope it lives up to expectation! #SPECTRE\",\n",
       " \"@SydnieJR except once the Hallmark movies start I won't get anything done!! _Ù÷__Ù_\\x81_Ù_ã\",\n",
       " 'How beautiful is the religion which teaches you to love for others what you love for yourself!\\n #Islam #Muslim #muslims',\n",
       " 'Fuck you ! NASA is awesome. https://t.co/wIUkltDTyO',\n",
       " 'You leave the group chat for more than 2 mins and you miss made shit',\n",
       " \"As opposed to Pump where it's like HI HOPE YOU LIKE DOING JUMPS WHERE YOU SPREAD YOUR FEET ACROSS THE ENTIRE STAGE\",\n",
       " 'Reality Series \\x89Û÷Monica the Medium\\x89Ûª Gets Season 2 on ABC Family https://t.co/Q62PP17sJe https://t.co/GOHuoOHQky',\n",
       " 'All the #magic in Hath No FURY is based on REAL #Magick! https://t.co/jwpsVhAU1E',\n",
       " \"Me the week of Brandon's birthday: there's no such thing as a birthday week u weirdo\\nMe November 1st: it's my birthday month, bow down to me\",\n",
       " 'And got more yards AND points than the Jets gave up all season. https://t.co/gdfkaOxcDD',\n",
       " \"Gala Bingo clubs bought for å£241m: The UK's largest High Street bingo operator, Gala, is\\x89Û_ https://t.co/eXhmGLr869 https://t.co/6xjB8Kxjis\",\n",
       " 'Did Alot Up In The Past Ion Wont Back',\n",
       " \"Here's how @sesamestreet's Julia will combat the stigma associated with #autism: https://t.co/IdkJYk84Mk #ece\",\n",
       " 'This boy was on the El wit his 3 daughters and they all was under 5',\n",
       " '@Toastburglar @wordwizard85 \\nThe trick is making sure you keep your lungs inflated for cushioning.',\n",
       " \"@TheRiddler109 @CNN I mean it's not like Mainstream new media is supposed to feed you the fact nowadays...\",\n",
       " 'The Flash: New Look at Danielle Panabaker as Killer Frost \\x89ÛÒ https://t.co/B1Icufq59H https://t.co/M5ju9fXQv4 #HotNews #geekinitiative',\n",
       " 'How many followers do you get everyday? I got 1 in the last day. Growing daily with https://t.co/JzckR3ub8H',\n",
       " '#dog walkers needed @FetchPetCareChi from the South Loop to Edgewater. Midday 11am-3pm  #Chicago #jobs https://t.co/z9HesUigwz',\n",
       " '@onedirection Artist of the Year #AMAs\\n\\nHO FAME',\n",
       " '@kbonimtetezi mheshimiwa travellers along that stretch of the road (lubao) r hurting and nobody seems to be raising this issue!',\n",
       " \"Greenville Thursday. Yall holla you need anything. Know I'm the plug\",\n",
       " '@MarkHicks1204 I went to the wrong Nandos but I found you eventually #10chilliesequalsfreenandos',\n",
       " '@AndyRobsonTips Cardiff or drew with the over 1.5 match goals sounds good to me',\n",
       " 'Those who break the rules are scum, but those who abandon their friends are worse than scum',\n",
       " 'Apple: The Great iPhone Unit Debate https://t.co/YOruxSrKCE']"
      ]
     },
     "execution_count": 195,
     "metadata": {},
     "output_type": "execute_result"
    }
   ],
   "source": [
    "df.head(50)[\"text\"].tolist()"
   ]
  },
  {
   "cell_type": "code",
   "execution_count": 208,
   "metadata": {
    "ExecuteTime": {
     "end_time": "2017-02-07T12:07:01.874926",
     "start_time": "2017-02-07T12:07:01.859133"
    },
    "collapsed": false
   },
   "outputs": [
    {
     "data": {
      "text/plain": [
       "['Robbie E Responds To Critics After Win Against Eddie Edwards In The #WorldTitleSeries ',\n",
       " ' It felt like they were my friends and I was living the story with them ',\n",
       " 'i absolutely adore when louis starts the songs it hits me hard but it feels good',\n",
       " 'Hi @JordanSpieth - Looking at the url - do you use @IFTTT?! Dont typically see an advanced user on the @PGATOUR! ',\n",
       " 'Watching Neighbours on Sky catching up with the Neighbs!! Xxx Xxx',\n",
       " 'Ive seen people on the train with lamps chairs tvs etc ',\n",
       " '@BpackEngineer Thank you for your patience while we take care of the issue!',\n",
       " 'Gala Bingo clubs bought for 241m The UKs largest High Street bingo operator Gala is being taken over by ',\n",
       " '@Aphmau the pic defines all mcd fangirls/fanboys and mcd shippers xD',\n",
       " '@Evielady just how lovely is the tree this year! Never seen it as gorgeous as this #Autumn #colour',\n",
       " 'how are you taking care of yourself? ',\n",
       " 'MTG Deals 1x Rank-Up-Magic - The Seventh One - PRIO-EN058 - Secret Rare - Unlimi ',\n",
       " 'Just put my ass on the line for you and this is how you repay me',\n",
       " ' ',\n",
       " 'will i even need sound effects for the diviners tonight',\n",
       " ' ',\n",
       " '@giannaaa28 lmao dude Im hella scared for next episode bc the ending to yesterdays',\n",
       " '@coolyazzy94 Ditto - Im still learning the favourites and retweet stuff - least it sucks less than Facebook haha P',\n",
       " '@CaribBros @JstSaleem I do but I dont understand how to get to the server to get it',\n",
       " 'Me too saw five lionesses drinking around the little pan one half block away made a kill behind land R #SafariLive',\n",
       " '@CraftYear2015 @isabelpascual thank you for the retweets',\n",
       " 'All the girls went to sleep and the guys just sat in the floor and watched us ',\n",
       " '@ChrisAOfficial Im on the right side xxx',\n",
       " 'YALL LMFAOO RIGHT WHEN THE CHORUS CAME ON A TEAR ROLLED DOWN HIS FACE ',\n",
       " 'James Bond premier night at the @Everymancinema in Oxted with @SidiEdey Lets hope it lives up to expectation! #SPECTRE',\n",
       " '@SydnieJR except once the Hallmark movies start I wont get anything done!! ',\n",
       " 'How beautiful is the religion which teaches you to love for others what you love for yourself! #Islam #Muslim #muslims',\n",
       " 'Fuck you ! NASA is awesome ',\n",
       " 'You leave the group chat for more than 2 mins and you miss made shit',\n",
       " 'As opposed to Pump where its like HI HOPE YOU LIKE DOING JUMPS WHERE YOU SPREAD YOUR FEET ACROSS THE ENTIRE STAGE',\n",
       " 'Reality Series Monica the Medium Gets Season 2 on ABC Family ',\n",
       " 'All the #magic in Hath No FURY is based on REAL #Magick! ',\n",
       " 'Me the week of Brandons birthday theres no such thing as a birthday week u weirdo Me November 1st its my birthday month bow down to me',\n",
       " 'And got more yards AND points than the Jets gave up all season ',\n",
       " 'Gala Bingo clubs bought for 241m The UKs largest High Street bingo operator Gala is ',\n",
       " 'Did Alot Up In The Past Ion Wont Back',\n",
       " 'Heres how @sesamestreets Julia will combat the stigma associated with #autism ',\n",
       " 'This boy was on the El wit his 3 daughters and they all was under 5',\n",
       " '@Toastburglar @wordwizard85 The trick is making sure you keep your lungs inflated for cushioning',\n",
       " '@TheRiddler109 @CNN I mean its not like Mainstream new media is supposed to feed you the fact nowadays',\n",
       " 'The Flash New Look at Danielle Panabaker as Killer Frost ',\n",
       " 'How many followers do you get everyday? I got 1 in the last day Growing daily with ',\n",
       " '#dog walkers needed @FetchPetCareChi from the South Loop to Edgewater Midday 11am-3pm #Chicago #jobs ',\n",
       " '@onedirection Artist of the Year #AMAs HO FAME',\n",
       " '@kbonimtetezi mheshimiwa travellers along that stretch of the road lubao r hurting and nobody seems to be raising this issue!',\n",
       " 'Greenville Thursday Yall holla you need anything Know Im the plug',\n",
       " '@MarkHicks1204 I went to the wrong Nandos but I found you eventually #10chilliesequalsfreenandos',\n",
       " '@AndyRobsonTips Cardiff or drew with the over 15 match goals sounds good to me',\n",
       " 'Those who break the rules are scum but those who abandon their friends are worse than scum',\n",
       " 'Apple The Great iPhone Unit Debate ']"
      ]
     },
     "execution_count": 208,
     "metadata": {},
     "output_type": "execute_result"
    }
   ],
   "source": [
    "df.head(50)[\"text_norm\"].tolist()"
   ]
  },
  {
   "cell_type": "code",
   "execution_count": 228,
   "metadata": {
    "ExecuteTime": {
     "end_time": "2017-02-07T12:19:49.371425",
     "start_time": "2017-02-07T12:19:48.290903"
    },
    "collapsed": false
   },
   "outputs": [
    {
     "name": "stdout",
     "output_type": "stream",
     "text": [
      "             precision    recall  f1-score   support\n",
      "\n",
      "     female       0.78      0.84      0.81      3214\n",
      "       male       0.80      0.73      0.76      2798\n",
      "\n",
      "avg / total       0.79      0.79      0.79      6012\n",
      "\n",
      "             precision    recall  f1-score   support\n",
      "\n",
      "     female       0.61      0.69      0.65      1076\n",
      "       male       0.57      0.49      0.53       928\n",
      "\n",
      "avg / total       0.59      0.59      0.59      2004\n",
      "\n"
     ]
    },
    {
     "data": {
      "text/plain": [
       "0.59481037924151692"
      ]
     },
     "execution_count": 228,
     "metadata": {},
     "output_type": "execute_result"
    }
   ],
   "source": [
    "logit = LogisticRegression(C=1.0, penalty='l1', tol=1.0e-10)\n",
    "logit = logit.fit(X_train, y_train)\n",
    "print(classification_report(y_train, logit.predict(X_train), target_names=encoder.classes_))\n",
    "print(classification_report(y_val, logit.predict(X_val), target_names=encoder.classes_))\n",
    "accuracy_score(y_val, logit.predict(X_val))"
   ]
  },
  {
   "cell_type": "code",
   "execution_count": 243,
   "metadata": {
    "ExecuteTime": {
     "end_time": "2017-02-07T13:11:20.305389",
     "start_time": "2017-02-07T12:40:25.760606"
    },
    "collapsed": false
   },
   "outputs": [
    {
     "name": "stdout",
     "output_type": "stream",
     "text": [
      "             precision    recall  f1-score   support\n",
      "\n",
      "     female       0.89      1.00      0.94      3214\n",
      "       male       0.99      0.86      0.92      2798\n",
      "\n",
      "avg / total       0.94      0.93      0.93      6012\n",
      "\n",
      "             precision    recall  f1-score   support\n",
      "\n",
      "     female       0.56      0.92      0.70      1076\n",
      "       male       0.64      0.16      0.25       928\n",
      "\n",
      "avg / total       0.60      0.57      0.49      2004\n",
      "\n"
     ]
    },
    {
     "data": {
      "text/plain": [
       "0.56886227544910184"
      ]
     },
     "execution_count": 243,
     "metadata": {},
     "output_type": "execute_result"
    }
   ],
   "source": [
    "svc = SVC()\n",
    "scaler = StandardScaler()\n",
    "scaler = scaler.fit(X_train.todense())\n",
    "X_train = scaler.transform(X_train.todense())\n",
    "X_val = scaler.transform(X_val.todense())\n",
    "svc = svc.fit(X_train, y_train)\n",
    "print(classification_report(y_train, svc.predict(X_train), target_names=encoder.classes_))\n",
    "print(classification_report(y_val, svc.predict(X_val), target_names=encoder.classes_))\n",
    "accuracy_score(y_val, svc.predict(X_val))"
   ]
  },
  {
   "cell_type": "code",
   "execution_count": null,
   "metadata": {
    "ExecuteTime": {
     "end_time": "2017-02-07T12:39:38.968254",
     "start_time": "2017-02-07T12:39:33.582081"
    },
    "collapsed": false
   },
   "outputs": [],
   "source": []
  }
 ],
 "metadata": {
  "kernelspec": {
   "display_name": "Python 3",
   "language": "python",
   "name": "python3"
  },
  "language_info": {
   "codemirror_mode": {
    "name": "ipython",
    "version": 3
   },
   "file_extension": ".py",
   "mimetype": "text/x-python",
   "name": "python",
   "nbconvert_exporter": "python",
   "pygments_lexer": "ipython3",
   "version": "3.5.2"
  },
  "latex_envs": {
   "bibliofile": "biblio.bib",
   "cite_by": "apalike",
   "current_citInitial": 1,
   "eqLabelWithNumbers": true,
   "eqNumInitial": 0
  }
 },
 "nbformat": 4,
 "nbformat_minor": 1
}
